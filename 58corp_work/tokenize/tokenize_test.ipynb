{
 "cells": [
  {
   "cell_type": "code",
   "execution_count": 40,
   "id": "3c5e2670",
   "metadata": {},
   "outputs": [],
   "source": [
    "import keras \n",
    "from keras.datasets import reuters\n",
    "from keras.models import Sequential \n",
    "from keras.layers import Dense, Dropout, Activation\n",
    "from keras.preprocessing.text import Tokenizer\n",
    "import tensorflow as tf\n"
   ]
  },
  {
   "cell_type": "code",
   "execution_count": 41,
   "id": "5dd6f7df",
   "metadata": {},
   "outputs": [],
   "source": [
    "(X_train,y_train),(X_test,y_test) = reuters.load_data()"
   ]
  },
  {
   "cell_type": "code",
   "execution_count": 42,
   "id": "6a1bfe62",
   "metadata": {},
   "outputs": [
    {
     "name": "stdout",
     "output_type": "stream",
     "text": [
      "(8982,)\n",
      "(2246,)\n",
      "[list([1, 27595, 28842, 8, 43, 10, 447, 5, 25, 207, 270, 5, 3095, 111, 16, 369, 186, 90, 67, 7, 89, 5, 19, 102, 6, 19, 124, 15, 90, 67, 84, 22, 482, 26, 7, 48, 4, 49, 8, 864, 39, 209, 154, 6, 151, 6, 83, 11, 15, 22, 155, 11, 15, 7, 48, 9, 4579, 1005, 504, 6, 258, 6, 272, 11, 15, 22, 134, 44, 11, 15, 16, 8, 197, 1245, 90, 67, 52, 29, 209, 30, 32, 132, 6, 109, 15, 17, 12])\n",
      " list([1, 3267, 699, 3434, 2295, 56, 16784, 7511, 9, 56, 3906, 1073, 81, 5, 1198, 57, 366, 737, 132, 20, 4093, 7, 19261, 49, 2295, 13415, 1037, 3267, 699, 3434, 8, 7, 10, 241, 16, 855, 129, 231, 783, 5, 4, 587, 2295, 13415, 30625, 775, 7, 48, 34, 191, 44, 35, 1795, 505, 17, 12])]\n"
     ]
    }
   ],
   "source": [
    "print(X_train.shape)\n",
    "\n",
    "print(X_test.shape)\n",
    "\n",
    "print(X_train[0:2])\n"
   ]
  },
  {
   "cell_type": "code",
   "execution_count": 43,
   "id": "ef246bd0",
   "metadata": {},
   "outputs": [
    {
     "name": "stdout",
     "output_type": "stream",
     "text": [
      "(8982, 50000)\n",
      "(2246, 50000)\n",
      "[[0. 1. 0. ... 0. 0. 0.]\n",
      " [0. 1. 0. ... 0. 0. 0.]]\n",
      "(8982,)\n",
      "(2246,)\n",
      "[3 4]\n"
     ]
    }
   ],
   "source": [
    "tokenizer = Tokenizer(num_words=50000)\n",
    "X_train = tokenizer.sequences_to_matrix(X_train, mode='binary')\n",
    "X_test = tokenizer.sequences_to_matrix(X_test, mode='binary')\n",
    "\n",
    "print(X_train.shape)\n",
    "\n",
    "print(X_test.shape)\n",
    "\n",
    "print(X_train[0:2])\n",
    "\n",
    "print(y_train.shape)\n",
    "\n",
    "print(y_test.shape)\n",
    "\n",
    "print(y_train[0:2])"
   ]
  },
  {
   "cell_type": "code",
   "execution_count": 44,
   "id": "d3cb69b2",
   "metadata": {},
   "outputs": [],
   "source": [
    "from keras.utils import np_utils\n",
    "np_utils.to_categorical\n",
    "y_train = np_utils.to_categorical(y_train,num_classes=46)\n",
    "y_test = np_utils.to_categorical(y_test,num_classes=46)"
   ]
  },
  {
   "cell_type": "code",
   "execution_count": 45,
   "id": "a83dbeb2",
   "metadata": {},
   "outputs": [
    {
     "name": "stdout",
     "output_type": "stream",
     "text": [
      "(8982, 46)\n",
      "(2246, 46)\n",
      "[[0. 0. 0. 1. 0. 0. 0. 0. 0. 0. 0. 0. 0. 0. 0. 0. 0. 0. 0. 0. 0. 0. 0. 0.\n",
      "  0. 0. 0. 0. 0. 0. 0. 0. 0. 0. 0. 0. 0. 0. 0. 0. 0. 0. 0. 0. 0. 0.]\n",
      " [0. 0. 0. 0. 1. 0. 0. 0. 0. 0. 0. 0. 0. 0. 0. 0. 0. 0. 0. 0. 0. 0. 0. 0.\n",
      "  0. 0. 0. 0. 0. 0. 0. 0. 0. 0. 0. 0. 0. 0. 0. 0. 0. 0. 0. 0. 0. 0.]]\n"
     ]
    }
   ],
   "source": [
    "print(y_train.shape)\n",
    "\n",
    "print(y_test.shape)\n",
    "\n",
    "print(y_train[0:2])"
   ]
  },
  {
   "cell_type": "code",
   "execution_count": 47,
   "id": "a13fcec0",
   "metadata": {},
   "outputs": [],
   "source": [
    "model = Sequential()\n",
    "model.add(tf.keras.layers.Dense(128,input_shape=(X_train[0].shape)))\n",
    "model.add(tf.keras.layers.Dense(512, activation='relu'))\n",
    "model.add(tf.keras.layers.BatchNormalization())\n",
    "model.add(tf.keras.layers.Dense(128, activation='relu'))\n",
    "model.add(tf.keras.layers.Dense(512, activation='relu'))\n",
    "model.add(Dropout(0.25))\n",
    "model.add(tf.keras.layers.Dense(46, activation='softmax'))\n"
   ]
  },
  {
   "cell_type": "code",
   "execution_count": 48,
   "id": "277610f0",
   "metadata": {},
   "outputs": [
    {
     "name": "stdout",
     "output_type": "stream",
     "text": [
      "Epoch 1/10\n",
      "141/141 [==============================] - 3s 20ms/step - loss: 1.7959 - accuracy: 0.6064 - val_loss: 3.1579 - val_accuracy: 0.6745\n",
      "Epoch 2/10\n",
      "141/141 [==============================] - 2s 13ms/step - loss: 1.1238 - accuracy: 0.7418 - val_loss: 2.5216 - val_accuracy: 0.7244\n",
      "Epoch 3/10\n",
      "141/141 [==============================] - 2s 13ms/step - loss: 0.8669 - accuracy: 0.8019 - val_loss: 1.7213 - val_accuracy: 0.7507\n",
      "Epoch 4/10\n",
      "141/141 [==============================] - 2s 13ms/step - loss: 0.6907 - accuracy: 0.8432 - val_loss: 1.1292 - val_accuracy: 0.7631\n",
      "Epoch 5/10\n",
      "141/141 [==============================] - 2s 13ms/step - loss: 0.5579 - accuracy: 0.8694 - val_loss: 1.0231 - val_accuracy: 0.7622\n",
      "Epoch 6/10\n",
      "141/141 [==============================] - 2s 13ms/step - loss: 0.4556 - accuracy: 0.8968 - val_loss: 0.9989 - val_accuracy: 0.7703\n",
      "Epoch 7/10\n",
      "141/141 [==============================] - 2s 13ms/step - loss: 0.3820 - accuracy: 0.9125 - val_loss: 0.9885 - val_accuracy: 0.7801\n",
      "Epoch 8/10\n",
      "141/141 [==============================] - 2s 13ms/step - loss: 0.3250 - accuracy: 0.9262 - val_loss: 0.9887 - val_accuracy: 0.7850\n",
      "Epoch 9/10\n",
      "141/141 [==============================] - 2s 13ms/step - loss: 0.2809 - accuracy: 0.9350 - val_loss: 1.0143 - val_accuracy: 0.7872\n",
      "Epoch 10/10\n",
      "141/141 [==============================] - 2s 13ms/step - loss: 0.2432 - accuracy: 0.9415 - val_loss: 0.9960 - val_accuracy: 0.7872\n"
     ]
    },
    {
     "data": {
      "text/plain": [
       "<keras.callbacks.History at 0x7f3658511d30>"
      ]
     },
     "execution_count": 48,
     "metadata": {},
     "output_type": "execute_result"
    }
   ],
   "source": [
    "model.compile(optimizer='sgd',loss='categorical_crossentropy',metrics=['accuracy'])\n",
    "\n",
    "model.fit(X_train,y_train,validation_data=(X_test,y_test),batch_size=64,epochs=10)"
   ]
  },
  {
   "cell_type": "code",
   "execution_count": 49,
   "id": "d536fa38",
   "metadata": {},
   "outputs": [
    {
     "name": "stdout",
     "output_type": "stream",
     "text": [
      "71/71 [==============================] - 0s 4ms/step - loss: 0.9960 - accuracy: 0.7872\n"
     ]
    },
    {
     "data": {
      "text/plain": [
       "[0.995977520942688, 0.7871772050857544]"
      ]
     },
     "execution_count": 49,
     "metadata": {},
     "output_type": "execute_result"
    }
   ],
   "source": [
    "model.evaluate(X_test,y_test)"
   ]
  },
  {
   "cell_type": "code",
   "execution_count": null,
   "id": "bee843d4",
   "metadata": {},
   "outputs": [],
   "source": []
  }
 ],
 "metadata": {
  "kernelspec": {
   "display_name": "Python 3 (ipykernel)",
   "language": "python",
   "name": "python3"
  },
  "language_info": {
   "codemirror_mode": {
    "name": "ipython",
    "version": 3
   },
   "file_extension": ".py",
   "mimetype": "text/x-python",
   "name": "python",
   "nbconvert_exporter": "python",
   "pygments_lexer": "ipython3",
   "version": "3.9.15"
  }
 },
 "nbformat": 4,
 "nbformat_minor": 5
}
