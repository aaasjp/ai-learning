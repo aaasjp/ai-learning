{
 "cells": [
  {
   "cell_type": "code",
   "execution_count": 1,
   "id": "7809a2bf",
   "metadata": {},
   "outputs": [],
   "source": [
    "import warnings\n",
    "warnings.filterwarnings(\"ignore\")\n",
    "import re\n",
    "import pandas as pd\n",
    "import numpy as np\n",
    "import tensorflow as tf\n",
    "import math\n",
    "import hanlp\n",
    "import pickle\n",
    "import collections\n",
    "import keras\n",
    "import pydot\n",
    "import pydotplus\n",
    "from pydotplus import graphviz\n",
    "import time\n",
    "import matplotlib.pyplot as plt\n",
    "\n",
    "from tensorflow.keras.preprocessing.text import Tokenizer\n",
    "from tensorflow.keras.preprocessing import sequence\n",
    "from tensorflow.keras.utils import to_categorical, plot_model\n",
    "from tensorflow.keras.models import Sequential,Model\n",
    "from tensorflow.keras import layers\n",
    "from sklearn.model_selection import train_test_split\n",
    "from tensorflow.keras.preprocessing.sequence import pad_sequences\n",
    "from sklearn import preprocessing\n",
    "from sklearn.preprocessing import LabelEncoder\n",
    "\n",
    "from sklearn.metrics import precision_score\n",
    "from sklearn.metrics import recall_score\n",
    "from sklearn.metrics import roc_auc_score\n",
    "from sklearn.metrics import accuracy_score\n"
   ]
  },
  {
   "cell_type": "code",
   "execution_count": 2,
   "id": "4e5845aa",
   "metadata": {},
   "outputs": [],
   "source": [
    "def process_raw_data(file_path,label_cols,text_fea_cols,categorical_fea_cols,numeric_fea_cols,):\n",
    "    df_raw = pd.read_csv(file_path, header=0, error_bad_lines=False, delimiter='\\t', engine='python')    \n",
    "    df_raw.fillna(value=\"\",inplace=True)\n",
    "    df_no_user=df_raw.iloc[:,1:]\n",
    "    \n",
    "    '''for easy debug'''\n",
    "    #df_no_user=df_no_user.head(3000)\n",
    "\n",
    "    labels=df_no_user.iloc[:,label_cols]\n",
    "    text_fea=df_no_user.iloc[:,text_fea_cols]\n",
    "    categorical_fea=df_no_user.iloc[:,categorical_fea_cols]\n",
    "    numeric_fea=df_no_user.iloc[:,numeric_fea_cols]\n",
    "       \n",
    "    return df_no_user,labels,text_fea,categorical_fea,numeric_fea\n",
    "     "
   ]
  },
  {
   "cell_type": "code",
   "execution_count": 3,
   "id": "b767ad05",
   "metadata": {},
   "outputs": [],
   "source": [
    "def process_numeric_fea(df):\n",
    "    df.replace('',0,inplace=True)\n",
    "    '''for log(x),s.t. x>0'''\n",
    "    for c in df.columns:\n",
    "        df[c] = df[c].apply(lambda x: 0 if x < 0 else x)\n",
    "    eps = 0.001 \n",
    "    df_log = np.log(df+eps)\n",
    "    x = df_log.values\n",
    "    x = np.clip(x, -5, 5)\n",
    "    std_scaler = preprocessing.StandardScaler() \n",
    "    x_scaled = std_scaler.fit_transform(x)\n",
    "    return pd.DataFrame(x_scaled,columns = df.columns.values)     "
   ]
  },
  {
   "cell_type": "code",
   "execution_count": 4,
   "id": "06e233d1",
   "metadata": {},
   "outputs": [],
   "source": [
    "def split_train_test_data(df,original=True,all_label_cols=None,label_col=None,label_values=None,label_counts=None,repeat_noise_ratio=0.95,sample_noise_ratio=0.95):\n",
    "    \n",
    "    print('-'*10+\"label counts in all data\"+'-'*10)   \n",
    "    for lc in all_label_cols:\n",
    "        print('label: ',lc)\n",
    "        print(df_data.iloc[:,lc].value_counts())\n",
    "          \n",
    "    \n",
    "    data=df.values  \n",
    "    train_data,test_data=train_test_split(data,test_size=0.1)   \n",
    "    \n",
    "    if original==False:\n",
    "        if len(label_values)!=len(label_counts):\n",
    "            raise ValueError(\"list label_values'size isn't equal to list label_counts!\")\n",
    "        if len(np.unique(train_data[:,label_col]))!=len(label_counts):\n",
    "            raise ValueError(\"df data dosen't has all label type!\")\n",
    "        \n",
    "        print('-'*10+\"label counts in train data BEFORE sample|repeat|noise\"+'-'*10) \n",
    "        for lc in all_label_cols:\n",
    "            print('label: ',lc)\n",
    "            print(collections.Counter(train_data[:,lc]))\n",
    "            \n",
    "        train_data_dict={}\n",
    "        for i in label_values:\n",
    "            lv=label_values[i]\n",
    "            lc=label_counts[i]\n",
    "            #td=train_data[np.in1d(train_data[:, label_col], lv)]\n",
    "            td=train_data[np.equal(train_data[:, label_col], lv)]\n",
    "            td_other=train_data[np.not_equal(train_data[:, label_col], lv)]\n",
    "            if td.shape[0]>=lc:\n",
    "                print(\"label value=\",lv,\" more than need! need=\",lc,\" exist=\",td.shape[0])\n",
    "                noise_counts=math.ceil(lc*(1-sample_noise_ratio))\n",
    "                noise_idxs=np.random.randint(td_other.shape[0],size=min(noise_counts,td_other.shape[0]))\n",
    "                noise_td=td_other[noise_idxs,:]\n",
    "                print(\"noise data counts=\",noise_td.shape[0])\n",
    "                noise_td[:,label_col]=lv\n",
    "                               \n",
    "                sample_counts=lc-noise_td.shape[0]\n",
    "                sample_idxs=np.random.randint(td.shape[0],size=sample_counts)\n",
    "                sample_td=td[sample_idxs,:]\n",
    "                print(\"sample data counts=\",sample_td.shape[0])\n",
    "               \n",
    "                merge_td=np.concatenate((sample_td,noise_td),axis=0)\n",
    "                train_data_dict[lv]=np.asarray(merge_td)\n",
    "            elif td.shape[0]<lc:\n",
    "                print(\"label value=\",lv,\" less than need! need=\",lc,\" exist=\",td.shape[0])\n",
    "                lack_counts=lc-td.shape[0]\n",
    "                print(\"lack_counts=\",lack_counts)\n",
    "                noise_counts=math.ceil(lack_counts*(1-repeat_noise_ratio))\n",
    "                noise_idxs=np.random.randint(td_other.shape[0],size=noise_counts)\n",
    "                noise_td=td_other[noise_idxs,:]\n",
    "                print(\"noise data counts=\",noise_td.shape[0])\n",
    "                noise_td[:,label_col]=lv\n",
    "                \n",
    "                repeat_counts=lc-noise_counts\n",
    "                repeat_times=math.ceil(repeat_counts/td.shape[0])\n",
    "                repeat_td=np.repeat(td,repeat_times+2,axis=0)\n",
    "                \n",
    "                sample_idxs=np.random.randint(repeat_td.shape[0],size=repeat_counts)\n",
    "                repeat_td=repeat_td[sample_idxs,:]\n",
    "                print(\"repeat data counts=\",repeat_td.shape[0])\n",
    "                \n",
    "                merge_td=np.concatenate((repeat_td,noise_td),axis=0)\n",
    "                train_data_dict[lv]=np.asarray(merge_td)\n",
    "                \n",
    "        train_data=np.concatenate(list(train_data_dict.values()),axis=0)\n",
    "        print('-'*10+\"label counts in train data AFTER sample|repeat|noise\"+'-'*10) \n",
    "        for lc in all_label_cols:\n",
    "            print('label: ',lc)\n",
    "            print(collections.Counter(train_data[:,lc]))\n",
    "    \n",
    "    print(\"train_data.shape=\",train_data.shape)\n",
    "    print('-'*10+\"splited data counts\"+'-'*10)   \n",
    "    print('train:',train_data.shape)\n",
    "    print('test:',test_data.shape)\n",
    "    \n",
    "    return train_data,test_data\n"
   ]
  },
  {
   "cell_type": "code",
   "execution_count": 5,
   "id": "05756802",
   "metadata": {},
   "outputs": [],
   "source": [
    "class Custom_Loss(tf.keras.losses.Loss):\n",
    "    def __init__(self,weights):\n",
    "        super().__init__()\n",
    "        self.weights=weights\n",
    "    \n",
    "    def call(self,y_true,y_pred):\n",
    "        log_y_pred_cost = tf.math.log(y_pred[0])\n",
    "        log_y_pred_recharge = tf.math.log(y_pred[1])\n",
    "        y_true_cost = y_true[0]\n",
    "        y_true_recharge= y_true[1]\n",
    "       \n",
    "        entroy_cost = -tf.math.multiply_no_nan(x=log_y_pred_cost, y=y_true_cost)\n",
    "        loss_cost=tf.reduce_mean(tf.reduce_sum(entroy_cost))  \n",
    "        \n",
    "        entroy_recharge = -tf.math.multiply_no_nan(x=log_y_pred_recharge, y=y_true_recharge)\n",
    "        loss_recharge=tf.reduce_mean(tf.reduce_sum(entroy_recharge))  \n",
    "        \n",
    "        loss_1=tf.math.multiply(loss_cost, self.weights)\n",
    "        loss_2=tf.math.multiply(loss_recharge, 1-self.weights)\n",
    "        \n",
    "        return loss_1+loss_2"
   ]
  },
  {
   "cell_type": "code",
   "execution_count": 6,
   "id": "d787cc37",
   "metadata": {},
   "outputs": [],
   "source": [
    "def create_multi_task_learning_model(input_size):\n",
    "   \n",
    "    inputs=tf.keras.layers.Input(shape=(input_size,),dtype=tf.float32,name='numeric_inputs')\n",
    "    outputs=tf.keras.layers.BatchNormalization()(inputs)\n",
    "    outputs=tf.keras.layers.Dense(100, activation='relu')(outputs)\n",
    "    outputs=tf.keras.layers.BatchNormalization()(outputs)\n",
    "    \n",
    "    outputs=tf.keras.layers.Dense(60, activation='relu')(outputs)\n",
    "    outputs=tf.keras.layers.BatchNormalization()(outputs)\n",
    "    \n",
    "    outputs_cost=tf.keras.layers.Dense(20, activation='relu')(outputs)\n",
    "    outputs_cost=tf.keras.layers.BatchNormalization()(outputs_cost)\n",
    "    outputs_cost=tf.keras.layers.Dense(3, activation='softmax',name='outputs_cost')(outputs_cost)\n",
    "    \n",
    "    outputs_recharge=tf.keras.layers.Dense(20, activation='relu')(outputs)\n",
    "    outputs_recharge=tf.keras.layers.BatchNormalization()(outputs_recharge)\n",
    "    outputs_recharge=tf.keras.layers.Dense(3, activation='softmax',name='outputs_recharge')(outputs_recharge)\n",
    "    \n",
    "    model = Model(inputs=[inputs], outputs=[outputs_cost,outputs_recharge])\n",
    "    \n",
    "    \n",
    "    model.loss_weights = tf.Variable(0.5,\n",
    "                                     name='loss_weights',\n",
    "                                     trainable=True,\n",
    "                                     dtype=tf.float32,\n",
    "                                     constraint=lambda z: tf.clip_by_value(z, 0, 1))\n",
    "    \n",
    "    \n",
    "    \n",
    "    model.compile(optimizer='adam',loss=Custom_Loss(model.loss_weights),metrics=['accuracy'])\n",
    "    \n",
    "    model.summary()\n",
    "    tf.keras.utils.plot_model(model, to_file='../model/model_6.2.png',show_shapes=True,show_dtype=True,show_layer_activations=True)\n",
    "    \n",
    "    return model\n",
    "        "
   ]
  },
  {
   "cell_type": "code",
   "execution_count": 7,
   "id": "5805604c",
   "metadata": {},
   "outputs": [],
   "source": [
    "def fit_batch(model):\n",
    "    \n",
    "    early_stopping = tf.keras.callbacks.EarlyStopping(monitor='val_loss',\n",
    "                                                      verbose=1,\n",
    "                                                      patience=5,\n",
    "                                                      restore_best_weights=True)\n",
    "    \n",
    "    start = time.time()\n",
    "    \n",
    "    #checkpoint = keras.callbacks.ModelCheckpoint('../history/checkpoint_{epoch:02d}', save_freq='epoch')\n",
    "    \n",
    "    history =model.fit(x=train_numeric_fea,\n",
    "                       y=[train_cost_categorized_label,train_recharge_categorized_label], \n",
    "                       validation_split=0.1,\n",
    "                       epochs=50,\n",
    "                       batch_size=32,\n",
    "                       #callbacks=[checkpoint],\n",
    "                       verbose=1)\n",
    "    print(f'Training time: {time.time() - start}\\n')\n",
    "    return history\n"
   ]
  },
  {
   "cell_type": "code",
   "execution_count": 8,
   "id": "9713fbd4",
   "metadata": {},
   "outputs": [],
   "source": [
    "def plot_multitask_accuracies(training_history):\n",
    "    \n",
    "    plt.plot(range(len(history.history['outputs_cost_accuracy'])), history.history['outputs_cost_accuracy'], c='r', label='Cost')\n",
    "    plt.plot(range(len(history.history['outputs_recharge_accuracy'])), history.history['outputs_recharge_accuracy'], c='b', label='Recharge')\n",
    "\n",
    "    plt.plot(range(len(history.history['val_outputs_cost_accuracy'])), history.history['val_outputs_cost_accuracy'], c='r',linestyle='dashed', label='Val-Cost')\n",
    "    plt.plot(range(len(history.history['val_outputs_recharge_accuracy'])), history.history['val_outputs_recharge_accuracy'], c='b', linestyle='dashed',  label='Val-Recharge')\n",
    "\n",
    "    plt.xlabel('Epochs')\n",
    "    plt.ylabel('Accuracy')\n",
    "    plt.legend()\n",
    "    plt.show()\n",
    "    \n",
    "    \n",
    "    plt.plot(range(len(history.history['outputs_cost_loss'])), history.history['outputs_cost_loss'], c='r', label='Cost')\n",
    "    plt.plot(range(len(history.history['outputs_recharge_loss'])), history.history['outputs_recharge_loss'], c='b', label='Recharge')\n",
    "\n",
    "    plt.plot(range(len(history.history['val_outputs_cost_loss'])), history.history['val_outputs_cost_loss'], c='r',linestyle='dashed',  label='Val-Cost')\n",
    "    plt.plot(range(len(history.history['val_outputs_recharge_loss'])), history.history['val_outputs_recharge_loss'], c='b', linestyle='dashed',  label='Val-Recharge')\n",
    "\n",
    "    plt.xlabel('Epochs')\n",
    "    plt.ylabel('Loss')\n",
    "    plt.legend()\n",
    "    plt.show()\n",
    "    \n"
   ]
  },
  {
   "cell_type": "code",
   "execution_count": 9,
   "id": "7803f1f3",
   "metadata": {},
   "outputs": [],
   "source": [
    "def evaluate_score(y_true,y_pred_prob):\n",
    "    pred_label=np.asarray([np.argmax(v) for v in y_pred_prob])\n",
    "    print('accuracy: %.3f' % accuracy_score(y_true, pred_label))\n",
    "    print('ovr macro auc: %.3f' % roc_auc_score(y_true, y_pred_prob,multi_class='ovo',average='macro')) #注意这里是prob\n",
    "    print('ovo macro auc: %.3f' % roc_auc_score(y_true, y_pred_prob, multi_class='ovr',average='macro')) #注意这里是prob\n",
    "    print('ovr weighted auc: %.3f' % roc_auc_score(y_true, y_pred_prob,multi_class='ovo',average='weighted')) #注意这里是prob\n",
    "    print('ovo weighted auc: %.3f' % roc_auc_score(y_true, y_pred_prob, multi_class='ovr',average='weighted')) #注意这里是prob\n",
    "    print('micro precision: %.3f' % precision_score(y_true, pred_label,average='micro'))\n",
    "    print('macro precision: %.3f' % precision_score(y_true, pred_label,average='macro'))\n",
    "    print('weighted precision: %.3f' % precision_score(y_true, pred_label,average='weighted'))\n",
    "    print('micro recall: %.3f' % recall_score(y_true, pred_label,average='micro'))\n",
    "    print('macro recall: %.3f' % recall_score(y_true, pred_label,average='macro'))\n",
    "    print('weighted recall: %.3f' % recall_score(y_true, pred_label,average='weighted'))"
   ]
  },
  {
   "cell_type": "code",
   "execution_count": 10,
   "id": "60831173",
   "metadata": {},
   "outputs": [
    {
     "name": "stdout",
     "output_type": "stream",
     "text": [
      "*************************** Multi-Task-Model Begin Running ******************************************************\n",
      "\n",
      "\n",
      "---------------------------------------- load data begin ----------------------------------------\n",
      "df_no_user.shape= (1000000, 271)\n",
      "labels.shape= (1000000, 2)\n",
      "text_fea.shape= (1000000, 1)\n",
      "categorical_fea.shape= (1000000, 3)\n",
      "numeric_fea.shape= (1000000, 265)\n",
      "   c_label  r_label                                    problem_content  \\\n",
      "0        2        2  采购员客服发布招聘信息刷新优化#电话联系 设置采购 客服精品刷新 效果不好 建议客户多发帖#...   \n",
      "\n",
      "   main_belong_loc1  main_belong_cate2 main_city_hierarchy  free_money_avg_1d  \\\n",
      "0              7578               3112                  二线                0.0   \n",
      "\n",
      "   free_money_avg_3d  free_money_avg_7d  free_money_avg_14d  ...  \\\n",
      "0           0.002022           0.006067            0.013146  ...   \n",
      "\n",
      "   m_login_counts_60d  sum_senti_score_latest_3month  \\\n",
      "0                   0                       1.184329   \n",
      "\n",
      "   count_senti_score_latest_3mont  avg_score_latest_3month  \\\n",
      "0                               6                 0.197388   \n",
      "\n",
      "   sum_senti_score_latest_6month  count_senti_score_latest_6mont  \\\n",
      "0                       3.911437                              12   \n",
      "\n",
      "   avg_score_latest_6month  sum_senti_score_latest_1year  \\\n",
      "0                 0.325953                      6.237927   \n",
      "\n",
      "   count_senti_score_latest_1year  avg_score_latest_1year  \n",
      "0                              20                0.311896  \n",
      "\n",
      "[1 rows x 271 columns]\n",
      "---------------------------------------- load data end ----------------------------------------\n"
     ]
    }
   ],
   "source": [
    "\n",
    "print('*'*27+\" Multi-Task-Model Begin Running \"+'**'*27+\"\\n\\n\")\n",
    "\n",
    "print('-'*40+\" load data begin \"+'-'*40)\n",
    "label_cols=[0,1]\n",
    "cost_label_col=0\n",
    "recharge_label_col=1\n",
    "text_fea_cols=[2]\n",
    "categorical_fea_cols=[3,4,5]\n",
    "numeric_fea_cols=list(range(6,271))\n",
    "recharge_label_values=[0,1,2]\n",
    "\n",
    "'''--tuning params--'''\n",
    "recharge_label_counts=[100000,200000,400000]\n",
    "is_raw=True\n",
    "text_matrix=True\n",
    "train_epochs=10\n",
    "repeat_noise_ratio=1\n",
    "sample_noise_ratio=1\n",
    "data_file=\"../data/train_data_nlp_and_number_and_category_and_sentiments_feature_multi_label__extra_large.txt\"\n",
    "'''--tuning params--'''\n",
    "\n",
    "numeric_input_size=len(numeric_fea_cols)\n",
    "\n",
    "df_no_user,labels,text_fea,categorical_fea,numeric_fea=process_raw_data(\n",
    "    file_path=data_file,\n",
    "    label_cols=label_cols,\n",
    "    text_fea_cols=text_fea_cols,\n",
    "    categorical_fea_cols=categorical_fea_cols,\n",
    "    numeric_fea_cols=numeric_fea_cols\n",
    "    )\n",
    "\n",
    "print(\"df_no_user.shape=\",df_no_user.shape)\n",
    "print(\"labels.shape=\",labels.shape)\n",
    "print(\"text_fea.shape=\",text_fea.shape)\n",
    "print(\"categorical_fea.shape=\",categorical_fea.shape)\n",
    "print(\"numeric_fea.shape=\",numeric_fea.shape)\n",
    "print(df_no_user.head(1))\n",
    "print('-'*40+\" load data end \"+'-'*40)"
   ]
  },
  {
   "cell_type": "code",
   "execution_count": 11,
   "id": "69c140d0",
   "metadata": {},
   "outputs": [
    {
     "name": "stdout",
     "output_type": "stream",
     "text": [
      "---------------------------------------- process feature begin ----------------------------------------\n",
      "----------label counts in all data----------\n",
      "label:  0\n",
      "2    678125\n",
      "1    196610\n",
      "0    125265\n",
      "Name: c_label, dtype: int64\n",
      "label:  1\n",
      "2    968061\n",
      "1     21319\n",
      "0     10620\n",
      "Name: r_label, dtype: int64\n",
      "train_data.shape= (900000, 267)\n",
      "----------splited data counts----------\n",
      "train: (900000, 267)\n",
      "test: (100000, 267)\n",
      "---------------------------------------- process feature end ----------------------------------------\n"
     ]
    }
   ],
   "source": [
    "print('-'*40+\" process feature begin \"+'-'*40)\n",
    "df_numeric_fea_scale=process_numeric_fea(numeric_fea)\n",
    "df_data=pd.concat([labels,df_numeric_fea_scale],axis=1)\n",
    "\n",
    "if is_raw:\n",
    "    train_data,test_data=split_train_test_data(df_data,all_label_cols=label_cols,original=True)\n",
    "else:\n",
    "    train_data,test_data=split_train_test_data(df_data,all_label_cols=label_cols,original=False,\n",
    "                                               label_col=recharge_label_col,label_values=recharge_label_values,label_counts=recharge_label_counts,\n",
    "                                               repeat_noise_ratio=repeat_noise_ratio,sample_noise_ratio=sample_noise_ratio)\n",
    "\n",
    "print('-'*40+\" process feature end \"+'-'*40)"
   ]
  },
  {
   "cell_type": "code",
   "execution_count": 12,
   "id": "946ce8c4",
   "metadata": {},
   "outputs": [
    {
     "name": "stdout",
     "output_type": "stream",
     "text": [
      "---------------------------------------- process label and feature begin ----------------------------------------\n",
      "train_cost_label.shape= (900000,)\n",
      "train_recharge_label.shape= (900000,)\n",
      "train_numeric_fea.shape= (900000, 265)\n",
      "test_cost_label.shape= (100000,)\n",
      "test_recharge_label.shape= (100000,)\n",
      "test_numeric_fea.shape= (100000, 265)\n",
      "---------------------------------------- process label and feature end ----------------------------------------\n"
     ]
    }
   ],
   "source": [
    "print('-'*40+\" process label and feature begin \"+'-'*40)\n",
    "\n",
    "train_cost_label=train_data[:,0] \n",
    "train_recharge_label=train_data[:,1]\n",
    "train_numeric_fea=train_data[:,2:]\n",
    "    \n",
    "test_cost_label=test_data[:,0]\n",
    "test_recharge_label=test_data[:,1]\n",
    "test_numeric_fea=test_data[:,2:]\n",
    "    \n",
    "    ##此处加上这个是为了解决：Failed to convert a NumPy array to a Tensor (Unsupported object type int).\n",
    "train_cost_label=np.asarray(train_cost_label).astype('int32')\n",
    "train_recharge_label=np.asarray(train_recharge_label).astype('int32')\n",
    "train_numeric_fea=np.asarray(train_numeric_fea).astype('float32') ##float not int !!\n",
    "    \n",
    "test_cost_label=np.asarray(test_cost_label).astype('int32')\n",
    "test_recharge_label=np.asarray(test_recharge_label).astype('int32')\n",
    "test_numeric_fea=np.asarray(test_numeric_fea).astype('float32') ##float not int !!\n",
    "    \n",
    "print(\"train_cost_label.shape=\",train_cost_label.shape)\n",
    "print(\"train_recharge_label.shape=\",train_recharge_label.shape)\n",
    "print(\"train_numeric_fea.shape=\",train_numeric_fea.shape)\n",
    "\n",
    "print(\"test_cost_label.shape=\",test_cost_label.shape)\n",
    "print(\"test_recharge_label.shape=\",test_recharge_label.shape)\n",
    "print(\"test_numeric_fea.shape=\",test_numeric_fea.shape)\n",
    "\n",
    "print('-'*40+\" process label and feature end \"+'-'*40)\n"
   ]
  },
  {
   "cell_type": "code",
   "execution_count": 13,
   "id": "d08c41f6",
   "metadata": {},
   "outputs": [
    {
     "name": "stdout",
     "output_type": "stream",
     "text": [
      "(900000, 3)\n",
      "[[0. 1. 0.]\n",
      " [0. 1. 0.]]\n",
      "[[0. 0. 1.]\n",
      " [0. 0. 1.]]\n"
     ]
    }
   ],
   "source": [
    "train_cost_categorized_label=tf.keras.utils.to_categorical(train_cost_label,num_classes=3)\n",
    "train_recharge_categorized_label=tf.keras.utils.to_categorical(train_recharge_label,num_classes=3)\n",
    "\n",
    "test_cost_categorized_label=tf.keras.utils.to_categorical(test_cost_label,num_classes=3)\n",
    "test_recharge_categorized_label=tf.keras.utils.to_categorical(test_recharge_label,num_classes=3)\n",
    "\n",
    "print(train_cost_categorized_label.shape)\n",
    "print(train_cost_categorized_label[0:2])\n",
    "print(train_recharge_categorized_label[0:2])"
   ]
  },
  {
   "cell_type": "code",
   "execution_count": 14,
   "id": "992f4925",
   "metadata": {},
   "outputs": [
    {
     "name": "stdout",
     "output_type": "stream",
     "text": [
      "---------------------------------------- train model begin ----------------------------------------\n",
      "Model: \"model\"\n",
      "__________________________________________________________________________________________________\n",
      " Layer (type)                   Output Shape         Param #     Connected to                     \n",
      "==================================================================================================\n",
      " numeric_inputs (InputLayer)    [(None, 265)]        0           []                               \n",
      "                                                                                                  \n",
      " batch_normalization (BatchNorm  (None, 265)         1060        ['numeric_inputs[0][0]']         \n",
      " alization)                                                                                       \n",
      "                                                                                                  \n",
      " dense (Dense)                  (None, 100)          26600       ['batch_normalization[0][0]']    \n",
      "                                                                                                  \n",
      " batch_normalization_1 (BatchNo  (None, 100)         400         ['dense[0][0]']                  \n",
      " rmalization)                                                                                     \n",
      "                                                                                                  \n",
      " dense_1 (Dense)                (None, 60)           6060        ['batch_normalization_1[0][0]']  \n",
      "                                                                                                  \n",
      " batch_normalization_2 (BatchNo  (None, 60)          240         ['dense_1[0][0]']                \n",
      " rmalization)                                                                                     \n",
      "                                                                                                  \n",
      " dense_2 (Dense)                (None, 20)           1220        ['batch_normalization_2[0][0]']  \n",
      "                                                                                                  \n",
      " dense_3 (Dense)                (None, 20)           1220        ['batch_normalization_2[0][0]']  \n",
      "                                                                                                  \n",
      " batch_normalization_3 (BatchNo  (None, 20)          80          ['dense_2[0][0]']                \n",
      " rmalization)                                                                                     \n",
      "                                                                                                  \n",
      " batch_normalization_4 (BatchNo  (None, 20)          80          ['dense_3[0][0]']                \n",
      " rmalization)                                                                                     \n",
      "                                                                                                  \n",
      " outputs_cost (Dense)           (None, 3)            63          ['batch_normalization_3[0][0]']  \n",
      "                                                                                                  \n",
      " outputs_recharge (Dense)       (None, 3)            63          ['batch_normalization_4[0][0]']  \n",
      "                                                                                                  \n",
      "==================================================================================================\n",
      "Total params: 37,087\n",
      "Trainable params: 36,157\n",
      "Non-trainable params: 930\n",
      "__________________________________________________________________________________________________\n"
     ]
    },
    {
     "name": "stderr",
     "output_type": "stream",
     "text": [
      "2023-03-24 11:51:28.911876: I tensorflow/core/platform/cpu_feature_guard.cc:151] This TensorFlow binary is optimized with oneAPI Deep Neural Network Library (oneDNN) to use the following CPU instructions in performance-critical operations:  SSE4.1 SSE4.2 AVX AVX2 AVX512F FMA\n",
      "To enable them in other operations, rebuild TensorFlow with the appropriate compiler flags.\n"
     ]
    },
    {
     "name": "stdout",
     "output_type": "stream",
     "text": [
      "Epoch 1/50\n",
      "25313/25313 [==============================] - 69s 3ms/step - loss: 0.8311 - outputs_cost_loss: 0.6758 - outputs_recharge_loss: 0.1553 - outputs_cost_accuracy: 0.7226 - outputs_recharge_accuracy: 0.9639 - val_loss: 0.7955 - val_outputs_cost_loss: 0.6450 - val_outputs_recharge_loss: 0.1505 - val_outputs_cost_accuracy: 0.7327 - val_outputs_recharge_accuracy: 0.9675\n",
      "Epoch 2/50\n",
      "25313/25313 [==============================] - 67s 3ms/step - loss: 0.7853 - outputs_cost_loss: 0.6508 - outputs_recharge_loss: 0.1346 - outputs_cost_accuracy: 0.7318 - outputs_recharge_accuracy: 0.9682 - val_loss: 0.8044 - val_outputs_cost_loss: 0.6487 - val_outputs_recharge_loss: 0.1557 - val_outputs_cost_accuracy: 0.7365 - val_outputs_recharge_accuracy: 0.9682\n",
      "Epoch 3/50\n",
      "25313/25313 [==============================] - 67s 3ms/step - loss: 0.7805 - outputs_cost_loss: 0.6500 - outputs_recharge_loss: 0.1305 - outputs_cost_accuracy: 0.7347 - outputs_recharge_accuracy: 0.9684 - val_loss: 0.7972 - val_outputs_cost_loss: 0.6439 - val_outputs_recharge_loss: 0.1533 - val_outputs_cost_accuracy: 0.7386 - val_outputs_recharge_accuracy: 0.9685\n",
      "Epoch 4/50\n",
      "25313/25313 [==============================] - 67s 3ms/step - loss: 0.7834 - outputs_cost_loss: 0.6503 - outputs_recharge_loss: 0.1331 - outputs_cost_accuracy: 0.7365 - outputs_recharge_accuracy: 0.9686 - val_loss: 0.7942 - val_outputs_cost_loss: 0.6425 - val_outputs_recharge_loss: 0.1517 - val_outputs_cost_accuracy: 0.7392 - val_outputs_recharge_accuracy: 0.9689\n",
      "Epoch 5/50\n",
      "25313/25313 [==============================] - 67s 3ms/step - loss: 0.7715 - outputs_cost_loss: 0.6411 - outputs_recharge_loss: 0.1304 - outputs_cost_accuracy: 0.7370 - outputs_recharge_accuracy: 0.9687 - val_loss: 0.8027 - val_outputs_cost_loss: 0.6458 - val_outputs_recharge_loss: 0.1569 - val_outputs_cost_accuracy: 0.7375 - val_outputs_recharge_accuracy: 0.9683\n",
      "Epoch 6/50\n",
      "25313/25313 [==============================] - 67s 3ms/step - loss: 0.7768 - outputs_cost_loss: 0.6442 - outputs_recharge_loss: 0.1326 - outputs_cost_accuracy: 0.7379 - outputs_recharge_accuracy: 0.9689 - val_loss: 0.7848 - val_outputs_cost_loss: 0.6400 - val_outputs_recharge_loss: 0.1448 - val_outputs_cost_accuracy: 0.7395 - val_outputs_recharge_accuracy: 0.9692\n",
      "Epoch 7/50\n",
      "25313/25313 [==============================] - 67s 3ms/step - loss: 0.7511 - outputs_cost_loss: 0.6266 - outputs_recharge_loss: 0.1245 - outputs_cost_accuracy: 0.7447 - outputs_recharge_accuracy: 0.9692 - val_loss: 0.7336 - val_outputs_cost_loss: 0.6095 - val_outputs_recharge_loss: 0.1241 - val_outputs_cost_accuracy: 0.7443 - val_outputs_recharge_accuracy: 0.9687\n",
      "Epoch 47/50\n",
      "25313/25313 [==============================] - 67s 3ms/step - loss: 0.7562 - outputs_cost_loss: 0.6278 - outputs_recharge_loss: 0.1284 - outputs_cost_accuracy: 0.7447 - outputs_recharge_accuracy: 0.9692 - val_loss: 0.7408 - val_outputs_cost_loss: 0.6124 - val_outputs_recharge_loss: 0.1284 - val_outputs_cost_accuracy: 0.7462 - val_outputs_recharge_accuracy: 0.9693\n",
      "Epoch 48/50\n",
      "25313/25313 [==============================] - 67s 3ms/step - loss: 0.7464 - outputs_cost_loss: 0.6257 - outputs_recharge_loss: 0.1207 - outputs_cost_accuracy: 0.7450 - outputs_recharge_accuracy: 0.9693 - val_loss: 0.7516 - val_outputs_cost_loss: 0.6155 - val_outputs_recharge_loss: 0.1361 - val_outputs_cost_accuracy: 0.7457 - val_outputs_recharge_accuracy: 0.9680\n",
      "Epoch 49/50\n",
      "25313/25313 [==============================] - 67s 3ms/step - loss: 0.7430 - outputs_cost_loss: 0.6208 - outputs_recharge_loss: 0.1221 - outputs_cost_accuracy: 0.7452 - outputs_recharge_accuracy: 0.9692 - val_loss: 0.7777 - val_outputs_cost_loss: 0.6256 - val_outputs_recharge_loss: 0.1521 - val_outputs_cost_accuracy: 0.7465 - val_outputs_recharge_accuracy: 0.9682\n",
      "Epoch 50/50\n",
      "25313/25313 [==============================] - 67s 3ms/step - loss: 0.7523 - outputs_cost_loss: 0.6283 - outputs_recharge_loss: 0.1240 - outputs_cost_accuracy: 0.7451 - outputs_recharge_accuracy: 0.9691 - val_loss: 0.7695 - val_outputs_cost_loss: 0.6223 - val_outputs_recharge_loss: 0.1472 - val_outputs_cost_accuracy: 0.7465 - val_outputs_recharge_accuracy: 0.9691\n",
      "Training time: 3357.0614013671875\n",
      "\n",
      "---------------------------------------- train model end ----------------------------------------\n"
     ]
    }
   ],
   "source": [
    "print('-'*40+\" train model begin \"+'-'*40)\n",
    "\n",
    "model=create_multi_task_learning_model(input_size=numeric_input_size)\n",
    "history=fit_batch(model)\n",
    "\n",
    "print('-'*40+\" train model end \"+'-'*40)     "
   ]
  },
  {
   "cell_type": "code",
   "execution_count": 29,
   "id": "604b0eaf",
   "metadata": {},
   "outputs": [
    {
     "name": "stdout",
     "output_type": "stream",
     "text": [
      "---------------------------------------- plot and evaluate begin ----------------------------------------\n",
      "3125/3125 [==============================] - 3s 983us/step\n"
     ]
    },
    {
     "data": {
      "image/png": "[encoded data removed]",
      "text/plain": [
       "<Figure size 640x480 with 1 Axes>"
      ]
     },
     "metadata": {},
     "output_type": "display_data"
    },
    {
     "data": {
      "image/png": "[encoded data removed]",
      "text/plain": [
       "<Figure size 640x480 with 1 Axes>"
      ]
     },
     "metadata": {},
     "output_type": "display_data"
    },
    {
     "name": "stdout",
     "output_type": "stream",
     "text": [
      "-----------消耗模型评估分值: ---------\n",
      "accuracy: 0.750\n",
      "ovr macro auc: 0.781\n",
      "ovo macro auc: 0.826\n",
      "ovr weighted auc: 0.819\n",
      "ovo weighted auc: 0.836\n",
      "micro precision: 0.750\n",
      "macro precision: 0.654\n",
      "weighted precision: 0.719\n",
      "micro recall: 0.750\n",
      "macro recall: 0.536\n",
      "weighted recall: 0.750\n",
      "-----------充值模型评估分值: ---------\n",
      "accuracy: 0.970\n",
      "ovr macro auc: 0.774\n",
      "ovo macro auc: 0.851\n",
      "ovr weighted auc: 0.846\n",
      "ovo weighted auc: 0.851\n",
      "micro precision: 0.970\n",
      "macro precision: 0.628\n",
      "weighted precision: 0.957\n",
      "micro recall: 0.970\n",
      "macro recall: 0.400\n",
      "weighted recall: 0.970\n",
      "---------------------------------------- plot and evaluate end ----------------------------------------\n"
     ]
    }
   ],
   "source": [
    "print('-'*40+\" plot and evaluate begin \"+'-'*40)\n",
    "\n",
    "pred_result=model.predict(x=test_numeric_fea,verbose=1,use_multiprocessing=True)\n",
    "    \n",
    "plot_multitask_accuracies(history)\n",
    "\n",
    "pred_result=np.asarray(pred_result)\n",
    "predict_prob_cost=pred_result[0]\n",
    "predict_prob_recharge=pred_result[1]\n",
    "print(\"-----------消耗模型评估分值: ---------\")\n",
    "evaluate_score(test_cost_label,predict_prob_cost)\n",
    "print(\"-----------充值模型评估分值: ---------\")\n",
    "evaluate_score(test_recharge_label,predict_prob_recharge)\n",
    "\n",
    "print('-'*40+\" plot and evaluate end \"+'-'*40)\n"
   ]
  },
  {
   "cell_type": "code",
   "execution_count": 16,
   "id": "a0a0a6c3",
   "metadata": {},
   "outputs": [
    {
     "name": "stdout",
     "output_type": "stream",
     "text": [
      "0.27946943\n"
     ]
    }
   ],
   "source": [
    "print(model.loss_weights.numpy())"
   ]
  },
  {
   "cell_type": "code",
   "execution_count": 23,
   "id": "5bc6c6b5",
   "metadata": {},
   "outputs": [
    {
     "name": "stdout",
     "output_type": "stream",
     "text": [
      "---------------------------------------- evaluate on snow users begin ----------------------------------------\n",
      "df_no_user_val.shape= (89464, 271)\n",
      "labels_val.shape= (89464, 2)\n",
      "text_fea_val.shape= (89464, 1)\n",
      "categorical_fea_val.shape= (89464, 3)\n",
      "numeric_fea_val.shape= (89464, 265)\n",
      "   c_label  r_label                      problem_content  main_belong_loc1  \\\n",
      "0        2        2  15666066288#15666066288#15666066288               372   \n",
      "\n",
      "   main_belong_cate2 main_city_hierarchy  free_money_avg_1d  \\\n",
      "0                706                  二线           0.073778   \n",
      "\n",
      "   free_money_avg_3d  free_money_avg_7d  free_money_avg_14d  ...  \\\n",
      "0           0.221333           0.516444            1.032889  ...   \n",
      "\n",
      "   m_login_counts_60d  sum_senti_score_latest_3month  \\\n",
      "0                   0                            2.0   \n",
      "\n",
      "   count_senti_score_latest_3mont  avg_score_latest_3month  \\\n",
      "0                               4                      0.5   \n",
      "\n",
      "   sum_senti_score_latest_6month  count_senti_score_latest_6mont  \\\n",
      "0                            4.0                               8   \n",
      "\n",
      "   avg_score_latest_6month  sum_senti_score_latest_1year  \\\n",
      "0                      0.5                      5.870598   \n",
      "\n",
      "   count_senti_score_latest_1year  avg_score_latest_1year  \n",
      "0                              17                0.345329  \n",
      "\n",
      "[1 rows x 271 columns]\n",
      "---------------------------------------- evaluate on snow users begin ----------------------------------------\n"
     ]
    }
   ],
   "source": [
    "print('-'*40+\" evaluate on snow users begin \"+'-'*40)\n",
    "val_file='../data/validate_text_number_category_sentiments_20230301.txt'\n",
    "df_no_user_val,labels_val,text_fea_val,categorical_fea_val,numeric_fea_val=process_raw_data(\n",
    "    file_path=val_file,\n",
    "    label_cols=label_cols,\n",
    "    text_fea_cols=text_fea_cols,\n",
    "    categorical_fea_cols=categorical_fea_cols,\n",
    "    numeric_fea_cols=numeric_fea_cols\n",
    "    )\n",
    "\n",
    "print(\"df_no_user_val.shape=\",df_no_user_val.shape)\n",
    "print(\"labels_val.shape=\",labels_val.shape)\n",
    "print(\"text_fea_val.shape=\",text_fea_val.shape)\n",
    "print(\"categorical_fea_val.shape=\",categorical_fea_val.shape)\n",
    "print(\"numeric_fea_val.shape=\",numeric_fea_val.shape)\n",
    "print(df_no_user_val.head(1))\n",
    "print('-'*40+\" evaluate on snow users begin \"+'-'*40)\n"
   ]
  },
  {
   "cell_type": "code",
   "execution_count": 24,
   "id": "eeaf98aa",
   "metadata": {},
   "outputs": [],
   "source": [
    "df_numeric_fea_scale_val=process_numeric_fea(numeric_fea_val)\n",
    "val_numeric_fea_scale=np.asarray(df_numeric_fea_scale_val).astype('float32')\n",
    "val_cost_label=np.asarray(labels_val.values[:,0]).astype('int32')\n",
    "val_recharge_label=np.asarray(labels_val.values[:,1]).astype('int32')"
   ]
  },
  {
   "cell_type": "code",
   "execution_count": 25,
   "id": "d99845df",
   "metadata": {},
   "outputs": [
    {
     "name": "stdout",
     "output_type": "stream",
     "text": [
      "[2 1 2 2 1 1 0 2 0 2]\n",
      "[2 2 2 2 2 2 2 2 2 2]\n"
     ]
    },
    {
     "data": {
      "text/plain": [
       "0"
      ]
     },
     "execution_count": 25,
     "metadata": {},
     "output_type": "execute_result"
    }
   ],
   "source": [
    "print(val_cost_label[0:10])\n",
    "print(val_recharge_label[0:10])\n",
    "#print(val_numeric_fea_scale[0:10])\n",
    "#val_numeric_fea_scale.shape\n",
    "\n",
    "df_numeric_fea_scale_val.isnull().values.any()\n",
    "\n",
    "df_numeric_fea_scale_val.isnull().sum().sum()\n",
    "\n",
    "\n"
   ]
  },
  {
   "cell_type": "code",
   "execution_count": 26,
   "id": "de81bd79",
   "metadata": {},
   "outputs": [
    {
     "name": "stdout",
     "output_type": "stream",
     "text": [
      "2796/2796 [==============================] - 3s 1ms/step\n",
      "-----------消耗模型评估分值: ---------\n",
      "accuracy: 0.651\n",
      "ovr macro auc: 0.762\n",
      "ovo macro auc: 0.794\n",
      "ovr weighted auc: 0.785\n",
      "ovo weighted auc: 0.801\n",
      "micro precision: 0.651\n",
      "macro precision: 0.647\n",
      "weighted precision: 0.641\n",
      "micro recall: 0.651\n",
      "macro recall: 0.507\n",
      "weighted recall: 0.651\n",
      "-----------充值模型评估分值: ---------\n",
      "accuracy: 0.972\n",
      "ovr macro auc: 0.777\n",
      "ovo macro auc: 0.869\n",
      "ovr weighted auc: 0.868\n",
      "ovo weighted auc: 0.873\n",
      "micro precision: 0.972\n",
      "macro precision: 0.635\n",
      "weighted precision: 0.963\n",
      "micro recall: 0.972\n",
      "macro recall: 0.417\n",
      "weighted recall: 0.972\n"
     ]
    }
   ],
   "source": [
    "\n",
    "pred_result_val=model.predict(x=val_numeric_fea_scale,verbose=1,use_multiprocessing=True)\n",
    "\n",
    "pred_result_val=np.asarray(pred_result_val)\n",
    "predict_prob_cost_val=pred_result_val[0]\n",
    "predict_prob_recharge_val=pred_result_val[1]\n",
    "print(\"-----------消耗模型评估分值: ---------\")\n",
    "evaluate_score(val_cost_label,predict_prob_cost_val)\n",
    "print(\"-----------充值模型评估分值: ---------\")\n",
    "evaluate_score(val_recharge_label,predict_prob_recharge_val)\n",
    "\n",
    "\n"
   ]
  },
  {
   "cell_type": "code",
   "execution_count": 28,
   "id": "de1efd6e",
   "metadata": {},
   "outputs": [
    {
     "name": "stdout",
     "output_type": "stream",
     "text": [
      "0.27946943\n"
     ]
    }
   ],
   "source": [
    "print(model.loss_weights.numpy())"
   ]
  },
  {
   "cell_type": "code",
   "execution_count": null,
   "id": "ccd9e281",
   "metadata": {},
   "outputs": [],
   "source": []
  }
 ],
 "metadata": {
  "kernelspec": {
   "display_name": "Python 3 (ipykernel)",
   "language": "python",
   "name": "python3"
  },
  "language_info": {
   "codemirror_mode": {
    "name": "ipython",
    "version": 3
   },
   "file_extension": ".py",
   "mimetype": "text/x-python",
   "name": "python",
   "nbconvert_exporter": "python",
   "pygments_lexer": "ipython3",
   "version": "3.9.15"
  }
 },
 "nbformat": 4,
 "nbformat_minor": 5
}
